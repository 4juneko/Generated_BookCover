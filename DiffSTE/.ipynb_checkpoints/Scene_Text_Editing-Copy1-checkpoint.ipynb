{
 "cells": [
  {
   "cell_type": "code",
   "execution_count": 1,
   "id": "a4939dba-5e42-4a0c-bad9-741ef153ac51",
   "metadata": {},
   "outputs": [
    {
     "name": "stdout",
     "output_type": "stream",
     "text": [
      "# conda environments:\n",
      "#\n",
      "base                     /home/jimmy31024/anaconda3\n",
      "articover                /home/jimmy31024/anaconda3/envs/articover\n",
      "articoverclone1          /home/jimmy31024/anaconda3/envs/articoverclone1\n",
      "detextify                /home/jimmy31024/anaconda3/envs/detextify\n",
      "detextifying             /home/jimmy31024/anaconda3/envs/detextifying\n",
      "diffste               *  /home/jimmy31024/anaconda3/envs/diffste\n",
      "lora                     /home/jimmy31024/anaconda3/envs/lora\n",
      "\n"
     ]
    }
   ],
   "source": [
    "!conda env list"
   ]
  },
  {
   "cell_type": "code",
   "execution_count": 2,
   "id": "6147ea28-1df3-4cc3-a534-544d75d2e5d5",
   "metadata": {},
   "outputs": [],
   "source": [
    "selected_boxes = [3, 4, 8, 9, 10]"
   ]
  },
  {
   "cell_type": "code",
   "execution_count": 3,
   "id": "a33658a0-028a-4541-a728-c6c4a7c9f8e2",
   "metadata": {},
   "outputs": [],
   "source": [
    "import os\n",
    "from PIL import Image\n",
    "directory_path = \"/home/jimmy31024/articover/images/masks/mask2\"\n",
    "os.chdir(directory_path)\n",
    "selected_masks = []\n",
    "for i in selected_boxes:\n",
    "    file_path = f'/home/jimmy31024/articover/images/masks/mask1/selected_mask{i}.png'\n",
    "    image = Image.open(file_path)\n",
    "    selected_masks.append(image)"
   ]
  },
  {
   "cell_type": "code",
   "execution_count": 4,
   "id": "b0d61239-8ab4-4a52-bc9d-299cc54b6a65",
   "metadata": {},
   "outputs": [
    {
     "data": {
      "text/plain": [
       "[<PIL.PngImagePlugin.PngImageFile image mode=RGB size=768x1024>,\n",
       " <PIL.PngImagePlugin.PngImageFile image mode=RGB size=768x1024>,\n",
       " <PIL.PngImagePlugin.PngImageFile image mode=RGB size=768x1024>,\n",
       " <PIL.PngImagePlugin.PngImageFile image mode=RGB size=768x1024>,\n",
       " <PIL.PngImagePlugin.PngImageFile image mode=RGB size=768x1024>]"
      ]
     },
     "execution_count": 4,
     "metadata": {},
     "output_type": "execute_result"
    }
   ],
   "source": [
    "selected_masks"
   ]
  },
  {
   "cell_type": "code",
   "execution_count": 5,
   "id": "0171c2e6-0e8d-47e1-92a0-b5f63cbfe5ba",
   "metadata": {},
   "outputs": [],
   "source": [
    "os.chdir('/home/jimmy31024/DiffSTE')"
   ]
  },
  {
   "cell_type": "code",
   "execution_count": 9,
   "id": "f71201e4-c2bf-4815-a7e7-c094196a1b49",
   "metadata": {},
   "outputs": [],
   "source": [
    "from datetime import datetime"
   ]
  },
  {
   "cell_type": "code",
   "execution_count": 6,
   "id": "768518c7-d945-4748-ad80-8c93ccefa048",
   "metadata": {},
   "outputs": [],
   "source": [
    "#STE\n",
    "def STE(input_image, selected_masks, words):\n",
    "    input_image = input_image\n",
    "    model_path = \"/home/jimmy31024/DiffSTE/pretrained/diffste.ckpt\"\n",
    "    out_dir = \"/home/jimmy31024/DiffSTE/outputs/4\"\n",
    "    \n",
    "    for i in range(len(words)):\n",
    "        mask = selected_masks[i]\n",
    "        resized_mask = mask.resize((256,256), Image.ANTIALIAS)\n",
    "        resized_mask.save(f\"examples/mask{7+i}.png\")  \n",
    "        input_mask = f\"examples/mask{7+i}.png\"\n",
    "        text = words[i]\n",
    "        command = f\"python generate.py --ckpt_path {model_path} --in_image {input_image} --in_mask {input_mask} --text {text} --out_dir {out_dir} --num_sample_per_image 1\"\n",
    "        !{command}\n",
    "        current_time = datetime.now()\n",
    "        timestamp=current_time.strftime(\"%Y%m%d%H%M%S\")\n",
    "        input_image = os.path.join(out_dir, f\"{text}_{timestamp}.png\")\n",
    "    print('Job all done. The file for the word returned at last is the final file.')\n",
    "#원하면 PIL.Image.Image 객체 return하면 된다."
   ]
  },
  {
   "cell_type": "code",
   "execution_count": 7,
   "id": "28c01eaf-4641-4dd4-9e32-db75ec6819ee",
   "metadata": {},
   "outputs": [],
   "source": [
    "input_image=\"/home/jimmy31024/articover/images/inpainted/inpainted2.png\"\n",
    "words=['COVER', 'ARTI', 'THE', 'COVER', 'NEW' ]"
   ]
  },
  {
   "cell_type": "code",
   "execution_count": 8,
   "id": "cc0102ba-9556-4e8d-84ac-40b40a973c4c",
   "metadata": {},
   "outputs": [
    {
     "name": "stderr",
     "output_type": "stream",
     "text": [
      "/tmp/ipykernel_4253/2282896362.py:9: DeprecationWarning: ANTIALIAS is deprecated and will be removed in Pillow 10 (2023-07-01). Use LANCZOS or Resampling.LANCZOS instead.\n",
      "  resized_mask = mask.resize((256,256), Image.ANTIALIAS)\n"
     ]
    },
    {
     "name": "stdout",
     "output_type": "stream",
     "text": [
      "A matching Triton is not available, some optimizations will not be enabled.\n",
      "Error caught was: No module named 'triton'\n",
      "/home/jimmy31024/anaconda3/envs/diffste/lib/python3.8/site-packages/flax/core/frozen_dict.py:169: FutureWarning: jax.tree_util.register_keypaths is deprecated, and will be removed in a future release. Please use `register_pytree_with_keys()` instead.\n",
      "  jax.tree_util.register_keypaths(\n",
      "No GPU/TPU found, falling back to CPU. (Set TF_CPP_MIN_LOG_LEVEL=0 and rerun for more info.)\n",
      "Initialize vae from finetuned...\n",
      "Initialize CharTokenizer\n",
      "Initilize char embedder...\n",
      "AutoencoderKL has 83.65 M params.\n",
      "UNet2DMultiConditionModel has 1108.40 M params.\n",
      "CLIPTextModel has 123.06 M params.\n",
      "CharEmbedder has 0.00 M params.\n",
      "A matching Triton is not available, some optimizations will not be enabled.\n",
      "Error caught was: No module named 'triton'\n",
      "/home/jimmy31024/anaconda3/envs/diffste/lib/python3.8/site-packages/flax/core/frozen_dict.py:169: FutureWarning: jax.tree_util.register_keypaths is deprecated, and will be removed in a future release. Please use `register_pytree_with_keys()` instead.\n",
      "  jax.tree_util.register_keypaths(\n",
      "No GPU/TPU found, falling back to CPU. (Set TF_CPP_MIN_LOG_LEVEL=0 and rerun for more info.)\n",
      "Initialize vae from finetuned...\n",
      "Initialize CharTokenizer\n",
      "Initilize char embedder...\n",
      "AutoencoderKL has 83.65 M params.\n",
      "UNet2DMultiConditionModel has 1108.40 M params.\n",
      "CLIPTextModel has 123.06 M params.\n",
      "CharEmbedder has 0.00 M params.\n",
      "A matching Triton is not available, some optimizations will not be enabled.\n",
      "Error caught was: No module named 'triton'\n",
      "/home/jimmy31024/anaconda3/envs/diffste/lib/python3.8/site-packages/flax/core/frozen_dict.py:169: FutureWarning: jax.tree_util.register_keypaths is deprecated, and will be removed in a future release. Please use `register_pytree_with_keys()` instead.\n",
      "  jax.tree_util.register_keypaths(\n",
      "No GPU/TPU found, falling back to CPU. (Set TF_CPP_MIN_LOG_LEVEL=0 and rerun for more info.)\n",
      "Initialize vae from finetuned...\n",
      "Initialize CharTokenizer\n",
      "Initilize char embedder...\n",
      "AutoencoderKL has 83.65 M params.\n",
      "UNet2DMultiConditionModel has 1108.40 M params.\n",
      "CLIPTextModel has 123.06 M params.\n",
      "CharEmbedder has 0.00 M params.\n",
      "A matching Triton is not available, some optimizations will not be enabled.\n",
      "Error caught was: No module named 'triton'\n",
      "/home/jimmy31024/anaconda3/envs/diffste/lib/python3.8/site-packages/flax/core/frozen_dict.py:169: FutureWarning: jax.tree_util.register_keypaths is deprecated, and will be removed in a future release. Please use `register_pytree_with_keys()` instead.\n",
      "  jax.tree_util.register_keypaths(\n",
      "No GPU/TPU found, falling back to CPU. (Set TF_CPP_MIN_LOG_LEVEL=0 and rerun for more info.)\n",
      "Initialize vae from finetuned...\n",
      "Initialize CharTokenizer\n",
      "Initilize char embedder...\n",
      "AutoencoderKL has 83.65 M params.\n",
      "UNet2DMultiConditionModel has 1108.40 M params.\n",
      "CLIPTextModel has 123.06 M params.\n",
      "CharEmbedder has 0.00 M params.\n",
      "A matching Triton is not available, some optimizations will not be enabled.\n",
      "Error caught was: No module named 'triton'\n",
      "/home/jimmy31024/anaconda3/envs/diffste/lib/python3.8/site-packages/flax/core/frozen_dict.py:169: FutureWarning: jax.tree_util.register_keypaths is deprecated, and will be removed in a future release. Please use `register_pytree_with_keys()` instead.\n",
      "  jax.tree_util.register_keypaths(\n",
      "No GPU/TPU found, falling back to CPU. (Set TF_CPP_MIN_LOG_LEVEL=0 and rerun for more info.)\n",
      "Initialize vae from finetuned...\n",
      "Initialize CharTokenizer\n",
      "Initilize char embedder...\n",
      "AutoencoderKL has 83.65 M params.\n",
      "UNet2DMultiConditionModel has 1108.40 M params.\n",
      "CLIPTextModel has 123.06 M params.\n",
      "CharEmbedder has 0.00 M params.\n",
      "Job all done. The file for the word returned at last is the final file.\n"
     ]
    }
   ],
   "source": [
    "STE(input_image, selected_masks, words)"
   ]
  }
 ],
 "metadata": {
  "kernelspec": {
   "display_name": "Python 3 (ipykernel)",
   "language": "python",
   "name": "python3"
  },
  "language_info": {
   "codemirror_mode": {
    "name": "ipython",
    "version": 3
   },
   "file_extension": ".py",
   "mimetype": "text/x-python",
   "name": "python",
   "nbconvert_exporter": "python",
   "pygments_lexer": "ipython3",
   "version": "3.8.17"
  }
 },
 "nbformat": 4,
 "nbformat_minor": 5
}
