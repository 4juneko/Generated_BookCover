{
  "nbformat": 4,
  "nbformat_minor": 0,
  "metadata": {
    "colab": {
      "provenance": [],
      "gpuType": "T4",
      "machine_shape": "hm",
      "toc_visible": true
    },
    "kernelspec": {
      "name": "python3",
      "display_name": "Python 3"
    },
    "language_info": {
      "name": "python"
    },
    "accelerator": "GPU"
  },
  "cells": [
    {
      "cell_type": "code",
      "source": [
        "from google.colab import drive\n",
        "drive.mount('/content/drive')"
      ],
      "metadata": {
        "colab": {
          "base_uri": "https://localhost:8080/"
        },
        "id": "ynGLH1nkoaOU",
        "outputId": "c41aee77-e6bd-43dd-8027-b82aed10a9e1"
      },
      "execution_count": null,
      "outputs": [
        {
          "output_type": "stream",
          "name": "stdout",
          "text": [
            "Mounted at /content/drive\n"
          ]
        }
      ]
    },
    {
      "cell_type": "markdown",
      "source": [
        "# Prepare Dataset"
      ],
      "metadata": {
        "id": "FcOybmITz6_R"
      }
    },
    {
      "cell_type": "code",
      "source": [
        "!huggingface-cli login # need code for writing"
      ],
      "metadata": {
        "id": "lYlC2gKAR0T_"
      },
      "execution_count": null,
      "outputs": []
    },
    {
      "cell_type": "code",
      "source": [
        "from datasets import load_dataset"
      ],
      "metadata": {
        "id": "B5ZL4POSo959"
      },
      "execution_count": null,
      "outputs": []
    },
    {
      "cell_type": "code",
      "source": [
        "pip install requests jsonlines pandas"
      ],
      "metadata": {
        "id": "U84f5pjVxeEC"
      },
      "execution_count": null,
      "outputs": []
    },
    {
      "cell_type": "code",
      "source": [
        "import requests\n",
        "import jsonlines\n",
        "import pandas as pd"
      ],
      "metadata": {
        "id": "sK4LFA95zNLk"
      },
      "execution_count": null,
      "outputs": []
    },
    {
      "cell_type": "code",
      "source": [
        "# already done => dont' have to\n",
        "# CSV 파일 로드\n",
        "df = pd.read_csv('dataset.csv_path')\n",
        "output_directory = 'dataset_output_path'\n",
        "metadata = []\n",
        "\n",
        "for index, row in df.iterrows():\n",
        "    # 이미지 URL 가져오기\n",
        "    image_url = row['image']\n",
        "    caption = row['prompt ']\n",
        "\n",
        "    try:\n",
        "        # 이미지 다운로드\n",
        "        response = requests.get(image_url, stream=True)\n",
        "        response.raise_for_status()\n",
        "\n",
        "        # 파일명 생성\n",
        "        file_name = f'{index + 1:04d}.png'\n",
        "\n",
        "        # 파일 경로 생성\n",
        "        file_path = os.path.join(output_directory, file_name)\n",
        "\n",
        "        # 이미지 저장\n",
        "        with open(file_path, 'wb') as file:\n",
        "            file.write(response.content)\n",
        "        # print(f'이미지 {file_path} 저장 완료')\n",
        "\n",
        "        # 메타데이터 생성\n",
        "        metadata.append({\n",
        "            'file_name': file_name,\n",
        "            'text': caption\n",
        "        })\n",
        "\n",
        "    except Exception as e:\n",
        "        print(f'이미지 {file_name} 저장 실패: {str(e)}')\n",
        "\n",
        "metadata_file_path = os.path.join(output_directory, 'metadata.jsonl')\n",
        "\n",
        "# 메타데이터 파일 작성\n",
        "with jsonlines.open(metadata_file_path, 'w') as writer:\n",
        "    writer.write_all(metadata)\n",
        "\n",
        "# print(f'메타데이터 파일 {metadata_file_path} 작성 완료')\n"
      ],
      "metadata": {
        "id": "2MKwUaxLxU84"
      },
      "execution_count": null,
      "outputs": []
    },
    {
      "cell_type": "code",
      "source": [
        "# JSONL 파일 읽기\n",
        "with jsonlines.open('dataset_jsonl_output_path', 'r') as reader:\n",
        "    for item in reader:\n",
        "        print(item)"
      ],
      "metadata": {
        "id": "xGPTpJCj2vDw"
      },
      "execution_count": null,
      "outputs": []
    },
    {
      "cell_type": "code",
      "source": [
        "dataset = load_dataset(\"imagefolder\", data_dir=\"dataset_output_path\", split=\"train\")\n",
        "dataset[0][\"text\"]"
      ],
      "metadata": {
        "id": "B0wqVEHNoU4G"
      },
      "execution_count": null,
      "outputs": []
    },
    {
      "cell_type": "code",
      "source": [
        "dataset"
      ],
      "metadata": {
        "id": "-6KxT3r_JbHD"
      },
      "execution_count": null,
      "outputs": []
    },
    {
      "cell_type": "code",
      "source": [
        "dataset.push_to_hub(\"Hugging Face Datasets Name\") #hugging face에서 creat dataset"
      ],
      "metadata": {
        "id": "RrPQeZthw6UG"
      },
      "execution_count": null,
      "outputs": []
    },
    {
      "cell_type": "markdown",
      "source": [
        "# LoRA for text_to _image\n",
        "https://github.com/huggingface/diffusers/blob/main/examples/text_to_image/README.md\n",
        "https://github.com/huggingface/diffusers/blob/main/examples/text_to_image/train_text_to_image.py"
      ],
      "metadata": {
        "id": "DT0rGSBGUWkb"
      }
    },
    {
      "cell_type": "code",
      "execution_count": null,
      "metadata": {
        "id": "LxQ4apB1iDrD"
      },
      "outputs": [],
      "source": [
        "import os\n",
        "\n",
        "# GitHub 저장소 복제\n",
        "!git clone https://github.com/huggingface/diffusers\n",
        "\n",
        "# 디렉토리 변경\n",
        "os.chdir('diffusers_dir')\n",
        "\n",
        "# 필요한 패키지 설치\n",
        "!pip install ."
      ]
    },
    {
      "cell_type": "code",
      "source": [
        "os.chdir('./examples/text_to_image')"
      ],
      "metadata": {
        "id": "oJ7MrjqAioYi"
      },
      "execution_count": null,
      "outputs": []
    },
    {
      "cell_type": "code",
      "source": [
        "pip install -r requirements.txt"
      ],
      "metadata": {
        "id": "DTi_wXKRiocC"
      },
      "execution_count": null,
      "outputs": []
    },
    {
      "cell_type": "code",
      "source": [
        "!accelerate config default"
      ],
      "metadata": {
        "id": "FY_ZhyZw0J4F"
      },
      "execution_count": null,
      "outputs": []
    },
    {
      "cell_type": "code",
      "source": [
        "pip install --upgrade tensorrt"
      ],
      "metadata": {
        "id": "ycjrKCtCJ0VM"
      },
      "execution_count": null,
      "outputs": []
    },
    {
      "cell_type": "markdown",
      "source": [
        "# Train"
      ],
      "metadata": {
        "id": "63auSWW20uBC"
      }
    },
    {
      "cell_type": "code",
      "source": [
        "!accelerate launch --mixed_precision=\"fp16\" train_text_to_image_lora.py \\\n",
        "  --pretrained_model_name_or_path=\"CompVis/stable-diffusion-v1-4\" \\\n",
        "  --dataset_name=\"Hugging Face Datasets Name\" --caption_column=\"text\" \\\n",
        "  --resolution=512 --random_flip \\\n",
        "  --train_batch_size=1 \\\n",
        "  --num_train_epochs=100 --checkpointing_steps=5000 \\\n",
        "  --learning_rate=1e-04 --lr_scheduler=\"constant\" --lr_warmup_steps=0 \\\n",
        "  --seed=42 \\\n",
        "  --output_dir=\"model_output_dir\" \\\n",
        "  --validation_prompt=\"A book cover, Title is The Deep Sky, genre is Sci-Fi, about a mission into deep space that begins with a lethal explosion that leaves the survivors questioning the loyalty of the crew.\"\n"
      ],
      "metadata": {
        "id": "zcMm38svR0Yz"
      },
      "execution_count": null,
      "outputs": []
    },
    {
      "cell_type": "markdown",
      "source": [
        "# Generate\n",
        "    https://github.com/huggingface/diffusers/tree/main/examples/text_to_image\n",
        "    ratio : https://huggingface.co/blog/stable_diffusion"
      ],
      "metadata": {
        "id": "0T_pwni00xmq"
      }
    },
    {
      "cell_type": "code",
      "source": [
        "os.chdir('output_image_dir')"
      ],
      "metadata": {
        "id": "d2hVDYgmCIxd"
      },
      "execution_count": null,
      "outputs": []
    },
    {
      "cell_type": "code",
      "source": [
        "from diffusers import StableDiffusionPipeline\n",
        "import torch\n",
        "\n",
        "model_path = \"model_output_dir\"\n",
        "pipe = StableDiffusionPipeline.from_pretrained(\"CompVis/stable-diffusion-v1-4\", torch_dtype=torch.float16)\n",
        "pipe.unet.load_attn_procs('model_path')\n",
        "pipe.to(\"cuda\")"
      ],
      "metadata": {
        "id": "F-N6tZhLR6KZ"
      },
      "execution_count": null,
      "outputs": []
    },
    {
      "cell_type": "code",
      "source": [
        "prompt = \"book cover titled nuclear war. jenre is sci-fi. description is that the mother became a warrior to protect her kids during the nuclear war against aliens, \"\n",
        "image = pipe(prompt, num_inference_steps=30, guidance_scale=7.5, height=512, width=768).images[0]\n",
        "image.save(\"bookCover_07.png\")\n",
        "\n"
      ],
      "metadata": {
        "id": "xVbsBAJzB0VO"
      },
      "execution_count": null,
      "outputs": []
    },
    {
      "cell_type": "code",
      "source": [
        "!pwd"
      ],
      "metadata": {
        "id": "EtqECgmYT9kR"
      },
      "execution_count": null,
      "outputs": []
    }
  ]
}