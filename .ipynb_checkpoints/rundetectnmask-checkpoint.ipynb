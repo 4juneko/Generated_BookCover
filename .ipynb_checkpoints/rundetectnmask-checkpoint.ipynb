{
 "cells": [
  {
   "cell_type": "code",
   "execution_count": 1,
   "id": "b8c96b49-df91-48e1-95c1-bd5e466add1c",
   "metadata": {},
   "outputs": [
    {
     "name": "stdout",
     "output_type": "stream",
     "text": [
      "/home/jimmy31024/articover\n"
     ]
    }
   ],
   "source": [
    "!pwd"
   ]
  },
  {
   "cell_type": "code",
   "execution_count": 2,
   "id": "02ef9c05-a366-4314-9a5b-ff621c522362",
   "metadata": {},
   "outputs": [
    {
     "name": "stdout",
     "output_type": "stream",
     "text": [
      "# conda environments:\n",
      "#\n",
      "base                     /home/jimmy31024/anaconda3\n",
      "articover             *  /home/jimmy31024/anaconda3/envs/articover\n",
      "detextify                /home/jimmy31024/anaconda3/envs/detextify\n",
      "detextifying             /home/jimmy31024/anaconda3/envs/detextifying\n",
      "diffste                  /home/jimmy31024/anaconda3/envs/diffste\n",
      "lora                     /home/jimmy31024/anaconda3/envs/lora\n",
      "\n"
     ]
    }
   ],
   "source": [
    "!conda env list"
   ]
  },
  {
   "cell_type": "code",
   "execution_count": 5,
   "id": "45d7d101-5ca9-4f56-971d-19b075e72688",
   "metadata": {},
   "outputs": [
    {
     "name": "stdout",
     "output_type": "stream",
     "text": [
      "Looking for /home/jimmy31024/.keras-ocr/craft_mlt_25k.h5\n"
     ]
    },
    {
     "name": "stderr",
     "output_type": "stream",
     "text": [
      "text_encoder/model.safetensors not found\n"
     ]
    },
    {
     "data": {
      "application/vnd.jupyter.widget-view+json": {
       "model_id": "18c33fba2bcb4101b170861694a1d997",
       "version_major": 2,
       "version_minor": 0
      },
      "text/plain": [
       "Loading pipeline components...:   0%|          | 0/7 [00:00<?, ?it/s]"
      ]
     },
     "metadata": {},
     "output_type": "display_data"
    },
    {
     "name": "stderr",
     "output_type": "stream",
     "text": [
      "`text_config_dict` is provided which will be used to initialize `CLIPTextConfig`. The value `text_config[\"id2label\"]` will be overriden.\n",
      "`text_config_dict` is provided which will be used to initialize `CLIPTextConfig`. The value `text_config[\"bos_token_id\"]` will be overriden.\n",
      "`text_config_dict` is provided which will be used to initialize `CLIPTextConfig`. The value `text_config[\"eos_token_id\"]` will be overriden.\n"
     ]
    },
    {
     "name": "stdout",
     "output_type": "stream",
     "text": [
      "Iteration 0 of 5 for image /home/jimmy31024/articover/images/inputs/sample6.png:\n",
      "\tCalling text detector...\n",
      "1/1 [==============================] - 1s 1s/step\n",
      "\tDetected 11 text boxes.\n",
      "\tCalling in-painting model...\n"
     ]
    },
    {
     "data": {
      "application/vnd.jupyter.widget-view+json": {
       "model_id": "178102d11f8d45cc80f046b2c0936a64",
       "version_major": 2,
       "version_minor": 0
      },
      "text/plain": [
       "  0%|          | 0/50 [00:00<?, ?it/s]"
      ]
     },
     "metadata": {},
     "output_type": "display_data"
    },
    {
     "name": "stdout",
     "output_type": "stream",
     "text": [
      "Iteration 1 of 5 for image /home/jimmy31024/articover/images/inputs/sample6.png:\n",
      "\tCalling text detector...\n",
      "1/1 [==============================] - 1s 956ms/step\n",
      "\tDetected 0 text boxes.\n"
     ]
    }
   ],
   "source": [
    "from RnM.text_detector import Keras_OCR\n",
    "from RnM.inpainter import runwayinpainting\n",
    "from RnM.detextifier import Detextifier\n",
    "\n",
    "text_detector = Keras_OCR()\n",
    "detextifier = Detextifier(text_detector, runwayinpainting())\n",
    "detextifier.detextify(\"/home/jimmy31024/articover/images/inputs/sample6.png\", \"/home/jimmy31024/articover/images/outputs/out11.png\")"
   ]
  },
  {
   "cell_type": "code",
   "execution_count": 6,
   "id": "d6858445-9203-4dd4-9a74-430dc4db2465",
   "metadata": {},
   "outputs": [
    {
     "name": "stdout",
     "output_type": "stream",
     "text": [
      "Looking for /home/jimmy31024/.keras-ocr/craft_mlt_25k.h5\n",
      "1/1 [==============================] - 1s 1s/step\n",
      "[TextBox(x=22, y=115, h=54, w=220, text=None), TextBox(x=101, y=148, h=14, w=38, text=None), TextBox(x=89, y=147, h=10, w=8, text=None), TextBox(x=18, y=199, h=53, w=61, text=None), TextBox(x=140, y=197, h=51, w=101, text=None), TextBox(x=11, y=255, h=15, w=17, text=None), TextBox(x=28, y=255, h=14, w=28, text=None), TextBox(x=125, y=255, h=14, w=37, text=None), TextBox(x=162, y=255, h=14, w=15, text=None), TextBox(x=177, y=255, h=14, w=19, text=None), TextBox(x=196, y=255, h=14, w=47, text=None)]\n"
     ]
    }
   ],
   "source": [
    "\n",
    "from RnM.text_detector import Keras_OCR\n",
    "\n",
    "# Keras_OCR 인스턴스 생성\n",
    "text_detector = Keras_OCR()\n",
    "\n",
    "# 텍스트를 감지할 이미지 파일 경로\n",
    "image_filename = \"/home/jimmy31024/articover/images/inputs/sample6.png\"\n",
    "\n",
    "# detect_text 메서드 호출하여 text_boxes 리스트 얻기\n",
    "text_boxes = text_detector.detect_text(image_filename)\n",
    "\n",
    "# text_boxes 출력\n",
    "print(text_boxes)"
   ]
  },
  {
   "cell_type": "code",
   "execution_count": 1,
   "id": "23de0194-c407-4abf-be08-03dd754fcbba",
   "metadata": {},
   "outputs": [
    {
     "name": "stdout",
     "output_type": "stream",
     "text": [
      "/home/jimmy31024/articover\n"
     ]
    }
   ],
   "source": [
    "!pwd"
   ]
  }
 ],
 "metadata": {
  "kernelspec": {
   "display_name": "Python 3 (ipykernel)",
   "language": "python",
   "name": "python3"
  },
  "language_info": {
   "codemirror_mode": {
    "name": "ipython",
    "version": 3
   },
   "file_extension": ".py",
   "mimetype": "text/x-python",
   "name": "python",
   "nbconvert_exporter": "python",
   "pygments_lexer": "ipython3",
   "version": "3.9.17"
  }
 },
 "nbformat": 4,
 "nbformat_minor": 5
}
