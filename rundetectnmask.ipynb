{
 "cells": [
  {
   "cell_type": "code",
   "execution_count": 1,
   "id": "b8c96b49-df91-48e1-95c1-bd5e466add1c",
   "metadata": {},
   "outputs": [
    {
     "name": "stdout",
     "output_type": "stream",
     "text": [
      "/home/jimmy31024/articover\n"
     ]
    }
   ],
   "source": [
    "!pwd"
   ]
  },
  {
   "cell_type": "code",
   "execution_count": 2,
   "id": "02ef9c05-a366-4314-9a5b-ff621c522362",
   "metadata": {},
   "outputs": [
    {
     "name": "stdout",
     "output_type": "stream",
     "text": [
      "# conda environments:\n",
      "#\n",
      "base                     /home/jimmy31024/anaconda3\n",
      "articover             *  /home/jimmy31024/anaconda3/envs/articover\n",
      "detextify                /home/jimmy31024/anaconda3/envs/detextify\n",
      "detextifying             /home/jimmy31024/anaconda3/envs/detextifying\n",
      "diffste                  /home/jimmy31024/anaconda3/envs/diffste\n",
      "lora                     /home/jimmy31024/anaconda3/envs/lora\n",
      "\n"
     ]
    }
   ],
   "source": [
    "!conda env list"
   ]
  },
  {
   "cell_type": "code",
   "execution_count": 4,
   "id": "45d7d101-5ca9-4f56-971d-19b075e72688",
   "metadata": {},
   "outputs": [
    {
     "name": "stdout",
     "output_type": "stream",
     "text": [
      "Looking for /home/jimmy31024/.keras-ocr/craft_mlt_25k.h5\n",
      "\tCalling text detector...\n"
     ]
    },
    {
     "name": "stderr",
     "output_type": "stream",
     "text": [
      "2023-08-04 07:09:09.713470: W tensorflow/tsl/framework/cpu_allocator_impl.cc:83] Allocation of 536870912 exceeds 10% of free system memory.\n"
     ]
    },
    {
     "name": "stdout",
     "output_type": "stream",
     "text": [
      "1/1 [==============================] - 8s 8s/step\n",
      "\tDetected 26 text boxes.\n",
      "\tCalling masking model...\n"
     ]
    }
   ],
   "source": [
    "from detectnmask.getmasks import get_masks\n",
    "\n",
    "masker = get_masks()\n",
    "masker.masks(\"/home/jimmy31024/articover/images/inputs/sample11.png\", \"/home/jimmy31024/articover/images/outputs/mask\")"
   ]
  }
 ],
 "metadata": {
  "kernelspec": {
   "display_name": "Python 3 (ipykernel)",
   "language": "python",
   "name": "python3"
  },
  "language_info": {
   "codemirror_mode": {
    "name": "ipython",
    "version": 3
   },
   "file_extension": ".py",
   "mimetype": "text/x-python",
   "name": "python",
   "nbconvert_exporter": "python",
   "pygments_lexer": "ipython3",
   "version": "3.9.17"
  }
 },
 "nbformat": 4,
 "nbformat_minor": 5
}
